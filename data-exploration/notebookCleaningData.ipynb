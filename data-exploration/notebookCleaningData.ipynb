{
 "cells": [
  {
   "cell_type": "markdown",
   "metadata": {},
   "source": [
    "# Cleaning data for modelling"
   ]
  },
  {
   "cell_type": "code",
   "execution_count": 56,
   "metadata": {},
   "outputs": [],
   "source": [
    "import pandas as pd\n",
    "df = pd.read_csv('../data/dataset_scrape.csv')"
   ]
  },
  {
   "cell_type": "code",
   "execution_count": 57,
   "metadata": {},
   "outputs": [],
   "source": [
    "## Discovering/removing duplicates:\n",
    "# print(\"Printing duplicated rows:\", df[df.duplicated()==True])\n",
    "df.drop_duplicates(inplace = True) #removing the duplicated rows in dataframe\n",
    "### Removing the rows with empty value\n",
    "df.dropna(subset=['region'], how='any',inplace=True)\n",
    "df.dropna(subset=['living_area'], how='any',inplace=True)\n",
    "df.dropna(subset=['state_building'], how='any',inplace=True)\n",
    "df.drop(df[(df.Type_property == \"APARTMENT\") & (df.floor.isnull())].index, inplace=True)\n",
    "df.dropna(subset=['area_garden'], how='any',inplace=True)\n",
    "# df.dropna(subset=['n_facades'], how='any',inplace=True)\n",
    "# df.dropna(subset=['area_terrace'], how='any',inplace=True)\n",
    "### Filling empty values\n",
    "x = (df[(df.terrace==1) & (df.area_terrace.notnull())].area_terrace.median())\n",
    "df[\"area_terrace\"].fillna(x, inplace = True)\n",
    "x = (df[(df.n_facades.notnull())].n_facades.median())\n",
    "df[\"n_facades\"].fillna(x, inplace = True)\n",
    "#Getting rif of null values columns\n",
    "df.drop(\"street\", axis='columns', inplace=True)\n",
    "df.drop(\"floor\", axis='columns', inplace=True)\n",
    "df.drop(\"n_floorCount\", axis='columns', inplace=True)"
   ]
  },
  {
   "cell_type": "code",
   "execution_count": 63,
   "metadata": {},
   "outputs": [
    {
     "data": {
      "text/plain": [
       "url                 0\n",
       "region              0\n",
       "province            0\n",
       "district            0\n",
       "postalCode          0\n",
       "locality            0\n",
       "Type_property       0\n",
       "subtype_property    0\n",
       "price               0\n",
       "type_transaction    0\n",
       "n_rooms             0\n",
       "living_area         0\n",
       "equipped_kitchen    0\n",
       "furnished           0\n",
       "fireplace           0\n",
       "terrace             0\n",
       "area_terrace        0\n",
       "garden              0\n",
       "area_garden         0\n",
       "land_surface        0\n",
       "n_facades           0\n",
       "swimming_pool       0\n",
       "state_building      0\n",
       "dtype: int64"
      ]
     },
     "execution_count": 63,
     "metadata": {},
     "output_type": "execute_result"
    }
   ],
   "source": [
    "df.isnull().sum()"
   ]
  },
  {
   "cell_type": "code",
   "execution_count": 66,
   "metadata": {},
   "outputs": [],
   "source": [
    "### Dividing datasets by Type_property into APARTMENT and HOUSE\n",
    "# df.Type_property.nunique()\n",
    "# df_group = df.groupby(\"Type_property\")\n",
    "# df_group.size()\n",
    "dfa = df[df['Type_property']=='APARTMENT']\n",
    "dfh = df[df['Type_property']=='HOUSE']"
   ]
  },
  {
   "cell_type": "code",
   "execution_count": 87,
   "metadata": {},
   "outputs": [
    {
     "name": "stderr",
     "output_type": "stream",
     "text": [
      "/tmp/ipykernel_1904191/936970238.py:2: SettingWithCopyWarning: \n",
      "A value is trying to be set on a copy of a slice from a DataFrame\n",
      "\n",
      "See the caveats in the documentation: https://pandas.pydata.org/pandas-docs/stable/user_guide/indexing.html#returning-a-view-versus-a-copy\n",
      "  dfa.drop(['url','region','province','district','locality','Type_property','subtype_property','type_transaction','state_building','land_surface','swimming_pool','furnished'], axis='columns', inplace=True)\n"
     ]
    }
   ],
   "source": [
    "# Droping text data that I don't need/want in APARTMENTS dataframe + getting rid of land_surface, swimming_pool, furshisned\n",
    "dfa.drop(['url','region','province','district','locality','Type_property','subtype_property','type_transaction','state_building','land_surface','swimming_pool','furnished'], axis='columns', inplace=True)"
   ]
  },
  {
   "cell_type": "code",
   "execution_count": 90,
   "metadata": {},
   "outputs": [
    {
     "name": "stderr",
     "output_type": "stream",
     "text": [
      "/tmp/ipykernel_1904191/3522899625.py:2: SettingWithCopyWarning: \n",
      "A value is trying to be set on a copy of a slice from a DataFrame\n",
      "\n",
      "See the caveats in the documentation: https://pandas.pydata.org/pandas-docs/stable/user_guide/indexing.html#returning-a-view-versus-a-copy\n",
      "  dfh.drop(['url','region','province','district','locality','Type_property','subtype_property', 'type_transaction','state_building','furnished'], axis='columns',inplace=True)\n"
     ]
    }
   ],
   "source": [
    "# Droping text data that I don't need/want in HOUSE dataframe + getting rid of furshisned.\n",
    "dfh.drop(['url','region','province','district','locality','Type_property','subtype_property', 'type_transaction','state_building','furnished'], axis='columns',inplace=True)"
   ]
  },
  {
   "cell_type": "code",
   "execution_count": 98,
   "metadata": {},
   "outputs": [
    {
     "name": "stdout",
     "output_type": "stream",
     "text": [
      "(5811, 11)\n",
      "(5660, 13)\n"
     ]
    }
   ],
   "source": [
    "# dfh.groupby(\"furnished\").size()\n",
    "print(dfa.shape)\n",
    "print(dfh.shape)"
   ]
  },
  {
   "cell_type": "code",
   "execution_count": 97,
   "metadata": {},
   "outputs": [
    {
     "data": {
      "text/plain": [
       "(5660, 13)"
      ]
     },
     "execution_count": 97,
     "metadata": {},
     "output_type": "execute_result"
    }
   ],
   "source": [
    "# dfh.groupby(\"terrace\").size()"
   ]
  },
  {
   "cell_type": "code",
   "execution_count": 99,
   "metadata": {},
   "outputs": [],
   "source": [
    "dfa.to_csv(\"../data/dataset_APARTMENT.csv\", index=False, encoding=\"utf-8\")\n",
    "dfh.to_csv(\"../data/dataset_HOUSE.csv\", index=False, encoding=\"utf-8\")"
   ]
  },
  {
   "cell_type": "code",
   "execution_count": null,
   "metadata": {},
   "outputs": [],
   "source": []
  }
 ],
 "metadata": {
  "kernelspec": {
   "display_name": "Python 3 (ipykernel)",
   "language": "python",
   "name": "python3"
  },
  "language_info": {
   "codemirror_mode": {
    "name": "ipython",
    "version": 3
   },
   "file_extension": ".py",
   "mimetype": "text/x-python",
   "name": "python",
   "nbconvert_exporter": "python",
   "pygments_lexer": "ipython3",
   "version": "3.10.6"
  }
 },
 "nbformat": 4,
 "nbformat_minor": 2
}
